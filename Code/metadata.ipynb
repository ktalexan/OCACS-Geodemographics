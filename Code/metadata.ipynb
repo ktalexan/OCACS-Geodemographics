{
 "cells": [
  {
   "cell_type": "code",
   "execution_count": 16,
   "metadata": {},
   "outputs": [],
   "source": [
    "import os"
   ]
  },
  {
   "cell_type": "code",
   "execution_count": 3,
   "metadata": {},
   "outputs": [],
   "source": [
    "yearDict = {\n",
    "    \"2013\": \"113\",\n",
    "    \"2014\": \"114\",\n",
    "    \"2015\": \"114\",\n",
    "    \"2016\": \"115\",\n",
    "    \"2017\": \"115\",\n",
    "    \"2018\": \"116\",\n",
    "    \"2019\": \"116\",\n",
    "    \"2020\": \"116\",\n",
    "    \"2021\": \"116\"\n",
    "}"
   ]
  },
  {
   "cell_type": "code",
   "execution_count": 28,
   "metadata": {},
   "outputs": [],
   "source": [
    "codeDir = os.path.expanduser(\"~\\Box\\KA Personal Folder\\Projects\\Github\\OCACS-Geodemographics\\Code\")\n",
    "prjPathDict = {}\n",
    "for y in yearDict:\n",
    "    year = int(y)\n",
    "    cdn = int(yearDict[y])\n",
    "    prjPath = os.path.expanduser(f\"~\\Box\\KA Personal Folder\\Projects\\OCGD\\OCACS\\OCACS{year}\")\n",
    "    prjPathDict[year] = prjPath"
   ]
  },
  {
   "cell_type": "code",
   "execution_count": null,
   "metadata": {},
   "outputs": [],
   "source": [
    "def run_metadata(year):\n",
    "    from ocacs_metadata import ocacs_metadata\n",
    "    cdn = yearDict[year]\n",
    "    prjPath = prjPathDict[year]\n",
    "    ocacs_metadata"
   ]
  },
  {
   "cell_type": "code",
   "execution_count": 27,
   "metadata": {},
   "outputs": [
    {
     "data": {
      "text/plain": [
       "'C:\\\\Users\\\\ktale\\\\Box\\\\KA Personal Folder\\\\Projects\\\\OCGD\\\\OCACS\\\\OCACS2013\\\\Original'"
      ]
     },
     "execution_count": 27,
     "metadata": {},
     "output_type": "execute_result"
    }
   ],
   "source": [
    "os.path.join(os.path.split(prjPathDict[2013])[0], \"Original\")"
   ]
  },
  {
   "cell_type": "code",
   "execution_count": 29,
   "metadata": {},
   "outputs": [
    {
     "data": {
      "text/plain": [
       "{2013: 'C:\\\\Users\\\\ktale\\\\Box\\\\KA Personal Folder\\\\Projects\\\\OCGD\\\\OCACS\\\\OCACS2013',\n",
       " 2014: 'C:\\\\Users\\\\ktale\\\\Box\\\\KA Personal Folder\\\\Projects\\\\OCGD\\\\OCACS\\\\OCACS2014',\n",
       " 2015: 'C:\\\\Users\\\\ktale\\\\Box\\\\KA Personal Folder\\\\Projects\\\\OCGD\\\\OCACS\\\\OCACS2015',\n",
       " 2016: 'C:\\\\Users\\\\ktale\\\\Box\\\\KA Personal Folder\\\\Projects\\\\OCGD\\\\OCACS\\\\OCACS2016',\n",
       " 2017: 'C:\\\\Users\\\\ktale\\\\Box\\\\KA Personal Folder\\\\Projects\\\\OCGD\\\\OCACS\\\\OCACS2017',\n",
       " 2018: 'C:\\\\Users\\\\ktale\\\\Box\\\\KA Personal Folder\\\\Projects\\\\OCGD\\\\OCACS\\\\OCACS2018',\n",
       " 2019: 'C:\\\\Users\\\\ktale\\\\Box\\\\KA Personal Folder\\\\Projects\\\\OCGD\\\\OCACS\\\\OCACS2019',\n",
       " 2020: 'C:\\\\Users\\\\ktale\\\\Box\\\\KA Personal Folder\\\\Projects\\\\OCGD\\\\OCACS\\\\OCACS2020',\n",
       " 2021: 'C:\\\\Users\\\\ktale\\\\Box\\\\KA Personal Folder\\\\Projects\\\\OCGD\\\\OCACS\\\\OCACS2021'}"
      ]
     },
     "execution_count": 29,
     "metadata": {},
     "output_type": "execute_result"
    }
   ],
   "source": [
    "prjPathDict"
   ]
  }
 ],
 "metadata": {
  "kernelspec": {
   "display_name": "Python 3",
   "language": "python",
   "name": "python3"
  },
  "language_info": {
   "codemirror_mode": {
    "name": "ipython",
    "version": 3
   },
   "file_extension": ".py",
   "mimetype": "text/x-python",
   "name": "python",
   "nbconvert_exporter": "python",
   "pygments_lexer": "ipython3",
   "version": "3.9.16"
  },
  "orig_nbformat": 4
 },
 "nbformat": 4,
 "nbformat_minor": 2
}
