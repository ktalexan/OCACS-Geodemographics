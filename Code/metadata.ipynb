{
 "cells": [
  {
   "cell_type": "code",
   "execution_count": 2,
   "metadata": {},
   "outputs": [],
   "source": [
    "import os, arcpy\n",
    "from arcpy import metadata as md\n",
    "from getpass import getpass"
   ]
  },
  {
   "cell_type": "code",
   "execution_count": 3,
   "metadata": {},
   "outputs": [
    {
     "data": {
      "text/plain": [
       "['C:\\\\Users\\\\ktalexan\\\\Box\\\\KA Personal Folder\\\\Projects\\\\Github\\\\OCACS-Geodemographics\\\\Code',\n",
       " 'F:\\\\OCGD\\\\OCACS2021']"
      ]
     },
     "execution_count": 3,
     "metadata": {},
     "output_type": "execute_result"
    }
   ],
   "source": [
    "codeDir = getpass(prompt = \"Code Execution Directory: \")\n",
    "prjPath = getpass(prompt= \"Data Storage Parent Directory: \")\n",
    "[codeDir, prjPath]"
   ]
  },
  {
   "cell_type": "code",
   "execution_count": null,
   "metadata": {},
   "outputs": [],
   "source": [
    "\"C:\\Users\\ktalexan\\Box\\KA Personal Folder\\Projects\\Github\\OCACS-Geodemographics\\Code\"\n",
    "\"F:\\OCGD\\OCACS2021\""
   ]
  },
  {
   "cell_type": "code",
   "execution_count": 4,
   "metadata": {},
   "outputs": [],
   "source": [
    "# Obtain the data folders in the project directory\n",
    "dataIn = os.path.join(prjPath, \"Original\")\n",
    "dataOut = os.path.join(prjPath, \"Processed\")"
   ]
  },
  {
   "attachments": {},
   "cell_type": "markdown",
   "metadata": {},
   "source": [
    "# Part 1: Parent Geodatabases"
   ]
  },
  {
   "cell_type": "code",
   "execution_count": 5,
   "metadata": {},
   "outputs": [],
   "source": [
    "# Set and obtain the workspaces (geodatabases) in the folder\n",
    "arcpy.env.workspace = dataOut\n",
    "workspaces = arcpy.ListWorkspaces(\"*\", \"FileGDB\")"
   ]
  },
  {
   "cell_type": "code",
   "execution_count": 6,
   "metadata": {},
   "outputs": [
    {
     "data": {
      "text/plain": [
       "['F:\\\\OCGD\\\\OCACS2021\\\\Processed\\\\OCACS2021D.gdb',\n",
       " 'F:\\\\OCGD\\\\OCACS2021\\\\Processed\\\\OCACS2021E.gdb',\n",
       " 'F:\\\\OCGD\\\\OCACS2021\\\\Processed\\\\OCACS2021H.gdb',\n",
       " 'F:\\\\OCGD\\\\OCACS2021\\\\Processed\\\\OCACS2021S.gdb']"
      ]
     },
     "execution_count": 6,
     "metadata": {},
     "output_type": "execute_result"
    }
   ],
   "source": [
    "workspaces"
   ]
  },
  {
   "cell_type": "code",
   "execution_count": 7,
   "metadata": {},
   "outputs": [
    {
     "data": {
      "text/plain": [
       "2021"
      ]
     },
     "execution_count": 7,
     "metadata": {},
     "output_type": "execute_result"
    }
   ],
   "source": [
    "# Get the year\n",
    "year = int(os.path.split(prjPath)[1].split(\"OCACS\")[1])\n",
    "year"
   ]
  },
  {
   "cell_type": "code",
   "execution_count": 8,
   "metadata": {},
   "outputs": [],
   "source": [
    "# Obtain the geodatabase list (no path)\n",
    "gdbListIn = [os.path.split(w)[1] for w in workspaces]"
   ]
  },
  {
   "cell_type": "code",
   "execution_count": 9,
   "metadata": {},
   "outputs": [],
   "source": [
    "metadataTemplate = {\n",
    "    \"D\": {\n",
    "        \"Characteristic\": \"Demographic Characteristics\",\n",
    "        \"Title\": \"OCACS {year} Geodatabase Selected Demographic Characteristics\",\n",
    "        \"Tags\": \"geodemographics, Orange County, California, US Census, ACS, American Community Survey, Demographic Characteristics, Orange County, County Subdivisions, Cities, ZIP Code Tabulation Areas, Congressional Districts, State Assembly Legislative Districts, State Senate Legislative Districts, Elementary Education Districts, Secondary Education Districts, Unified Education Districts, Urban Areas, PUMA, Census Tracts, Block Groups, age, sex, race, Hispanic or Latino, citizen, voting\",\n",
    "        \"Summary\": \"Key demographic characteristics of the {year} American Community Survey (ACS), 5-year estimates for multiple geography levels in Orange County, California.\",\n",
    "        \"Description\": \"US Census American Community Survey (ACS) {year}, 5-year estimates of the key demographic characteristics of multiple geographic levels (county; county subdivisions; cities; ZIP codes; congressional, state assembly and state senate districts; elementary, secondary and unified educational districts; urban areas, PUMA, census tracts and block groups) for Orange County, California. The data contains 105 fields for the variable groups D01: Sex and age (universe: total population, table X1, 49 fields); D02: Median age by sex and race (universe: total population, table X1, 12 fields); D03: Race (universe: total population, table X2, 8 fields); D04: Race alone or in combination with one or more other races (universe: total population, table X2, 7 fields); D05: Hispanic or Latino and race (universe: total population, table X3, 21 fields), and; D06: Citizen voting age population (universe: citizen, 18 and over, table X5, 8 fields). The US Census geodemographic data are based on the {year} TigerLines across multiple geographies. The spatial geographies were merged with ACS data tables. See full documentation at the OCACS project github page (https://github.com/ktalexan/OCACS-Geodemographics).\",\n",
    "        \"Credits\": \"Original datasets from US Census TigerLine Geography (https://www.census.gov/geo/maps-data/data/tiger-line.html), and American FactFinder (https://factfinder.census.gov/) for the selected tables of the American Community Survey (ACS, {year}). Linking and merging geographic with demographic tables along with final production of the merged spatial geodatabase and online datasets are performed by Orange County Public Works, OC Survey Geospatial Services, Dr. Kostas Alexandridis, GISP.\",\n",
    "        \"Thumbnail\": \"https://github.com/ktalexan/OCACS-Geodemographics/blob/main/Images/OCDemographicCharacteristics.jpg?raw=true\"\n",
    "    },\n",
    "    \"S\": {\n",
    "        \"Characteristic\": \"Social Characteristics\",\n",
    "        \"Title\": \"OCACS {year} Geodatabase Selected Social Characteristics\",\n",
    "        \"Tags\": \"geodemographics, Orange County, California, US Census, ACS, American Community Survey, Social Characteristics, Orange County, County Subdivisions, Cities, ZIP Code Tabulation Areas, Congressional Districts, State Assembly Legislative Districts, State Senate Legislative Districts, Elementary Education Districts, Secondary Education Districts, Unified Education Districts, Urban Areas, PUMA, Census Tracts, Block Groups, households, relationship, marital status, Fertility, grandparents, school enrollment, educational attainment, veteran status, disability, residence, place of birth, citizenship, region of birth, language spoken, ancestry, computer use, internet use\",\n",
    "        \"Summary\": \"Key social characteristics of the {year} American Community Survey (ACS), 5-year estimates for multiple geography levels in Orange County, California.\",\n",
    "        \"Summary\": \"Key social characteristics of the {year} American Community Survey (ACS), 5-year estimates for multiple geography levels in Orange County, California.\",\n",
    "        \"Description\": \"US Census American Community Survey (ACS) {year}, 5-year estimates of the key social characteristics of multiple geographic levels (county; county subdivisions; cities; ZIP codes; congressional, state assembly and state senate districts; elementary, secondary and unified educational districts; urban areas, PUMA, census tracts and block groups) for Orange County, California. The data contains 500 fields for the variable groups S01: Households by type (universe: total households, table X11, 17 fields); S02: Relationship (universe: population in households, table X9, 19 fields); S03: Marital status (universe: population 15 years and over, table X12, 13 fields); S04: Fertility (universe: women 15-50 years who had birth in the past 12 months, table X13, 11 fields); S05: Grandparents (universe: grandparents living or responsible for own grandchildren under 18 years, table X10, 18 fields); S06: School enrollment (universe: population 3 years old and over enrolled in school, table X14, 17 fields); S07: Educational attainment (universe: population 25 years and over, table X15, 25 fields); S08: Veteran status (universe: civilian population 18 years and over, table X21, 2 fields); S09: Disability status and type by sex and age (universe: total civilian non-institutionalized population, table X18, 77 fields); S10: Disability status by age and health insurance coverage (universe: civilian non-institutionalized population, table X18, 16 fields); S11: Residence 1 year ago (universe: population 1 year and over, table X7, 6 fields); S12: Place of birth (universe: total population, table X5, 27 fields); S13: Citizenship status by nativity in the US (universe: total population, table X5, 6 fields); S14: Year of entry (universe: population born outside the US, table X5, 21 fields); S15: World region of birth of foreign born population (universe: foreign born population, excluding population born at sea, table X5, 25 fields); S16: Language spoken in households (universe: total households, table X16, 6 fields); S17: Language spoken at home (universe: population 5 years and over, table X16, 67 fields); S18: Ancestry (universe: total population reporting ancestry, table X4, 114 fields), and; S19: Computers and internet use (universe: total population in households and total households, table X28, 13 fields). The US Census geodemographic data are based on the {year} TigerLines across multiple geographies. The spatial geographies were merged with ACS data tables. See full documentation at the OCACS project GitHub page (https://github.com/ktalexan/OCACS-Geodemographics).\",\n",
    "        \"Credits\": \"Original datasets from US Census TigerLine Geography (https://www.census.gov/geo/maps-data/data/tiger-line.html), and American FactFinder (https://factfinder.census.gov/) for the selected tables of the American Community Survey (ACS, {year}). Linking and merging geographic with demographic tables along with final production of the merged spatial geodatabase and online datasets are performed by Orange County Public Works, OC Survey Geospatial Services, Dr. Kostas Alexandridis, GISP.\",\n",
    "        \"Thumbnail\": \"https://github.com/ktalexan/OCACS-Geodemographics/blob/main/Images/OCSocialCharacteristics.jpg?raw=true\"\n",
    "    },\n",
    "    \"E\": {\n",
    "        \"Characteristic\": \"Economic Characteristics\",\n",
    "        \"Title\": \"OCACS {year} Geodatabase Selected Economic Characteristics\",\n",
    "        \"Tags\": \"geodemographics, Orange County, California, US Census, ACS, American Community Survey, Economic Characteristics, Orange County, County Subdivisions, Cities, ZIP Code Tabulation Areas, Congressional Districts, State Assembly Legislative Districts, State Senate Legislative Districts, Elementary Education Districts, Secondary Education Districts, Unified Education Districts, Urban Areas, PUMA, Census Tracts, Block Groups, employment status, work status, worker, commuting, travel time, vehicles, transportation, occupation, industry, class of worker, income, earnings, health insurance, poverty\",\n",
    "        \"Summary\": \"Key economic characteristics of the {year} American Community Survey (ACS), 5-year estimates for multiple geography levels in Orange County, California.\",\n",
    "        \"Description\": \"US Census American Community Survey (ACS) {year}, 5-year estimates of the key economic characteristics of multiple geographic levels (county; county subdivisions; cities; ZIP codes; congressional, state assembly and state senate districts; elementary, secondary and unified educational districts; urban areas, PUMA, census tracts and block groups) for Orange County, California. The data contains 397 fields for the variable groups E01: Employment status (universe: population 16 years and over, table X23, 7 fields); E02: Work status by age of worker (universe: population 16 years and over, table X23, 36 fields); E03: Commuting to work (universe: workers 16 years and over, table X8, 8 fields); E04: Travel time to work (universe: workers 16 years and over who did not work at home, table X8, 14 fields); E05: Number of vehicles available for workers (universe: workers 16 years and over in households, table X8, 8 fields); E06: Median age by means of transportation to work (universe: median age, workers 16 years and over, table X8, 7 fields); E07: Means of transportation to work by race (universe: workers 16 years and over, table X8, 64 fields); E08: Occupation (universe: civilian employed population 16 years and over, table X24, 53 fields); E09: Industry (universe: civilian employed population 16 years and over, table X24, 43 fields); E10: Class of worker (universe: civilian employed population 16 years and over, table X24, 19 fields); E11: Household income and earnings in the past 12 months (universe: total households, table X19, 37 fields); E12: Income and earnings in dollars (universe: inflation-adjusted dollars, tables X19-X20, 31 fields); E13: Family income in dollars (universe: total families, table X19, 17 fields); E14: Health insurance coverage (universe: total families, table X19, 17 fields); E15: Ratio of income to Poverty level (universe: total population for whom Poverty level is determined, table X17,  8 fields); E16: Poverty in population in the past 12 months (universe: total population for whom Poverty level is determined, table X17, 7 fields); E17: Poverty in households in the past 12 months (universe: total households, table X17, 9 fields); E18: Percentage of families and people whose income in the past 12 months is below the poverty level (universe: families, population, table X17, 8 fields), and; X19: Poverty and income deficit (dollars) in the past 12 months for families (universe: families with income below Poverty level in the past 12 months, table X17, 4 fields). The US Census geodemographic data are based on the {year} TigerLines across multiple geographies. The spatial geographies were merged with ACS data tables. See full documentation at the OCACS project GitHub page (https://github.com/ktalexan/OCACS-Geodemographics).\",\n",
    "        \"Credits\": \"Original datasets from US Census TigerLine Geography (https://www.census.gov/geo/maps-data/data/tiger-line.html), and American FactFinder (https://factfinder.census.gov/) for the selected tables of the American Community Survey (ACS, {year}). Linking and merging geographic with demographic tables along with final production of the merged spatial geodatabase and online datasets are performed by Orange County Public Works, OC Survey Geospatial Services, Dr. Kostas Alexandridis, GISP.\",\n",
    "        \"Thumbnail\": \"https://github.com/ktalexan/OCACS-Geodemographics/blob/main/Images/OCEconomicCharacteristics.jpg?raw=true\"\n",
    "    },\n",
    "    \"H\": {\n",
    "        \"Characteristic\": \"Housing Characteristics\",\n",
    "        \"Title\": \"OCACS {year} Geodatabase Selected Housing Characteristics\",\n",
    "        \"Tags\": \"geodemographics, Orange County, California, US Census, ACS, American Community Survey, Housing Characteristics, Orange County, County Subdivisions, Cities, ZIP Code Tabulation Areas, Congressional Districts, State Assembly Legislative Districts, State Senate Legislative Districts, Elementary Education Districts, Secondary Education Districts, Unified Education Districts, Urban Areas, PUMA, Census Tracts, Block Groups, housing occupancy, units, tenure, year built, rooms, bedrooms, vacancy status, vehicles, heating fuel, kitchen, plumbing, occupants, housing value, price asked, mortgage status, owner costs, rent value, gross rent\",\n",
    "        \"Summary\": \"Key housing characteristics of the {year} American Community Survey (ACS), 5-year estimates for multiple geography levels in Orange County, California.\",\n",
    "        \"Description\": \"US Census American Community Survey (ACS) {year}, 5-year estimates of the key housing characteristics of multiple geographic levels (county; county subdivisions; cities; ZIP codes; congressional, state assembly and state senate districts; elementary, secondary and unified educational districts; urban areas, PUMA, census tracts and block groups) for Orange County, California. The data contains 406 fields for the variable groups H01: Housing occupancy (universe: total housing units, table X25, 3 fields); H02: Units in structure (universe: total housing units, table X25, 11 fields); H03: Population in occupied housing units by tenure by units in structure (universe: total population in occupied housing units, table X25, 13 fields); H04: Year structure built (universe: total housing units, table X25, 15 fields); H05: Rooms (universe: total housing units, table X25, 18 fields); H06: Bedrooms (universe: total housing units, table X25, 21 fields); H07: Housing tenure by race of householder (universe: occupied housing units, table X25, 51 fields); H08: Total population in occupied housing units by tenure (universe: total population in occupied housing units, table X25, 3 fields); H09: Vacancy status (universe: vacant housing units, table X25, 8 fields); H10: Occupied housing units by race of householder (universe: occupied housing units, table X25, 8 fields); H11: Year householder moved into unit (universe: occupied housing units, table X25, 18 fields); H12: Vehicles available (universe: occupied housing units, table X25, 18 fields); H13: Housing heating fuel (universe: occupied housing units, table X25, 10 fields); H14: Selected housing characteristics (universe: occupied housing units, table X25, 9 fields); H15: Occupants per room (universe: occupied housing units, table X25, 13 fields); H16: Housing value (universe: owner-occupied units, table X25, 32 fields); H17: Price asked for vacant for sale only, and sold not occupied housing units (universe: vacant for sale only, and sold not occupied housing units, table X25, 28 fields); H18: Mortgage status (universe: owner-occupied units, table X25, 10 fields); H19: Selected monthly owner costs, SMOC (universe: owner-occupied housing units with or without a mortgage, table X25, 45 fields); H20: Selected monthly owner costs as a percentage of household income, SMOCAPI (universe: owner-occupied housing units with or without a mortgage, table X25, 26 fields); H21: Contract rent distribution and rent asked distribution in dollars (universe: renter-occupied housing units paying cash rent and vacant, for rent, and rented not occupied housing units, table X25, 7 fields); H22: Gross rent (universe: occupied units paying rent, table X25, 28 fields), and; X23: Gross rent as percentage of household income (universe: occupied units paying rent, table X25, 11 fields). The US Census geodemographic data are based on the {year} TigerLines across multiple geographies. The spatial geographies were merged with ACS data tables. See full documentation at the OCACS project GitHub page (https://github.com/ktalexan/OCACS-Geodemographics).\",\n",
    "        \"Credits\": \"Original datasets from US Census TigerLine Geography (https://www.census.gov/geo/maps-data/data/tiger-line.html), and American FactFinder (https://factfinder.census.gov/) for the selected tables of the American Community Survey (ACS, 2021). Linking and merging geographic with demographic tables along with final production of the merged spatial geodatabase and online datasets are performed by Orange County Public Works, OC Survey Geospatial Services, Dr. Kostas Alexandridis, GISP.\",\n",
    "        \"Thumbnail\": \"https://github.com/ktalexan/OCACS-Geodemographics/blob/main/Images/OCHousingCharacteristics.jpg?raw=true\"\n",
    "    }\n",
    "}"
   ]
  },
  {
   "cell_type": "code",
   "execution_count": 10,
   "metadata": {},
   "outputs": [],
   "source": [
    "# Format the metadata from the template\n",
    "metadataList = {}\n",
    "for w in workspaces:\n",
    "    f = os.path.split(w)[1]\n",
    "    c = f.split('.gdb')[0].split(f\"OCACS{year}\")[1]\n",
    "    metadataList[c] = {\n",
    "        \"Path\": w,\n",
    "        \"Name\": f.split(\".gdb\")[0],\n",
    "        \"Year\": year,\n",
    "        \"Characteristic\": metadataTemplate[c][\"Characteristic\"],\n",
    "        \"Title\": metadataTemplate[c][\"Title\"].format(year=year),\n",
    "        \"Tags\": metadataTemplate[c][\"Tags\"],\n",
    "        \"Summary\": metadataTemplate[c][\"Summary\"].format(year=year),\n",
    "        \"Description\": metadataTemplate[c][\"Description\"].format(year=year),\n",
    "        \"Credits\": metadataTemplate[c][\"Credits\"].format(year=year),\n",
    "        \"Thumbnail\": metadataTemplate[c][\"Thumbnail\"].format(prjPath=prjPath)\n",
    "    }\n",
    "    "
   ]
  },
  {
   "cell_type": "code",
   "execution_count": 11,
   "metadata": {},
   "outputs": [],
   "source": [
    "# Assign metadata\n",
    "for key in metadataList.keys():\n",
    "    metadataItems = md.Metadata()\n",
    "    metadataItems.title = metadataList[key][\"Title\"]\n",
    "    metadataItems.tags = metadataList[key][\"Tags\"]\n",
    "    metadataItems.summary = metadataList[key][\"Summary\"]\n",
    "    metadataItems.description = metadataList[key][\"Description\"]\n",
    "    metadataItems.credits = metadataList[key][\"Credits\"]\n",
    "    metadataItems.accessConstraints = metadataList[key][\"Credits\"]\n",
    "    metadataItems.thumbnailUri = metadataList[key][\"Thumbnail\"]\n",
    "    metadataTarget = md.Metadata(metadataList[key][\"Path\"])\n",
    "    if not metadataTarget.isReadOnly:\n",
    "        metadataTarget.copy(metadataItems)\n",
    "        metadataTarget.save()\n",
    "    elif metadataTarget.isReadOnly:\n",
    "        print(f\"{metadataList[key]['Name']} is Read Only...\")"
   ]
  },
  {
   "attachments": {},
   "cell_type": "markdown",
   "metadata": {},
   "source": [
    "# Part 2: Geographic Geodatabases"
   ]
  },
  {
   "cell_type": "code",
   "execution_count": 12,
   "metadata": {},
   "outputs": [
    {
     "data": {
      "text/plain": [
       "['F:\\\\OCGD\\\\OCACS2021\\\\Processed\\\\OCACS2021D.gdb',\n",
       " 'F:\\\\OCGD\\\\OCACS2021\\\\Processed\\\\OCACS2021E.gdb',\n",
       " 'F:\\\\OCGD\\\\OCACS2021\\\\Processed\\\\OCACS2021H.gdb',\n",
       " 'F:\\\\OCGD\\\\OCACS2021\\\\Processed\\\\OCACS2021S.gdb']"
      ]
     },
     "execution_count": 12,
     "metadata": {},
     "output_type": "execute_result"
    }
   ],
   "source": [
    "workspaces"
   ]
  },
  {
   "cell_type": "code",
   "execution_count": 36,
   "metadata": {},
   "outputs": [],
   "source": [
    "cdn = 116 # to be replaced at the code"
   ]
  },
  {
   "cell_type": "code",
   "execution_count": 39,
   "metadata": {},
   "outputs": [],
   "source": [
    "# Set up current geographic workspaces\n",
    "arcpy.env.workspace = workspaces[0] # replaces this with a loop later\n",
    "features = arcpy.ListFeatureClasses()\n",
    "featuresPath = [os.path.join(arcpy.env.workspace, f) for f in features]"
   ]
  },
  {
   "cell_type": "code",
   "execution_count": 43,
   "metadata": {},
   "outputs": [
    {
     "data": {
      "text/plain": [
       "(['OCACS2021COD',\n",
       "  'OCACS2021CSD',\n",
       "  'OCACS2021PLD',\n",
       "  'OCACS2021ZCD',\n",
       "  'OCACS2021CDD',\n",
       "  'OCACS2021LLD',\n",
       "  'OCACS2021ULD',\n",
       "  'OCACS2021EDD',\n",
       "  'OCACS2021SDD',\n",
       "  'OCACS2021UDD',\n",
       "  'OCACS2021UAD',\n",
       "  'OCACS2021PUD',\n",
       "  'OCACS2021BGD',\n",
       "  'OCACS2021TRD'],\n",
       " ['F:\\\\OCGD\\\\OCACS2021\\\\Processed\\\\OCACS2021D.gdb\\\\OCACS2021COD',\n",
       "  'F:\\\\OCGD\\\\OCACS2021\\\\Processed\\\\OCACS2021D.gdb\\\\OCACS2021CSD',\n",
       "  'F:\\\\OCGD\\\\OCACS2021\\\\Processed\\\\OCACS2021D.gdb\\\\OCACS2021PLD',\n",
       "  'F:\\\\OCGD\\\\OCACS2021\\\\Processed\\\\OCACS2021D.gdb\\\\OCACS2021ZCD',\n",
       "  'F:\\\\OCGD\\\\OCACS2021\\\\Processed\\\\OCACS2021D.gdb\\\\OCACS2021CDD',\n",
       "  'F:\\\\OCGD\\\\OCACS2021\\\\Processed\\\\OCACS2021D.gdb\\\\OCACS2021LLD',\n",
       "  'F:\\\\OCGD\\\\OCACS2021\\\\Processed\\\\OCACS2021D.gdb\\\\OCACS2021ULD',\n",
       "  'F:\\\\OCGD\\\\OCACS2021\\\\Processed\\\\OCACS2021D.gdb\\\\OCACS2021EDD',\n",
       "  'F:\\\\OCGD\\\\OCACS2021\\\\Processed\\\\OCACS2021D.gdb\\\\OCACS2021SDD',\n",
       "  'F:\\\\OCGD\\\\OCACS2021\\\\Processed\\\\OCACS2021D.gdb\\\\OCACS2021UDD',\n",
       "  'F:\\\\OCGD\\\\OCACS2021\\\\Processed\\\\OCACS2021D.gdb\\\\OCACS2021UAD',\n",
       "  'F:\\\\OCGD\\\\OCACS2021\\\\Processed\\\\OCACS2021D.gdb\\\\OCACS2021PUD',\n",
       "  'F:\\\\OCGD\\\\OCACS2021\\\\Processed\\\\OCACS2021D.gdb\\\\OCACS2021BGD',\n",
       "  'F:\\\\OCGD\\\\OCACS2021\\\\Processed\\\\OCACS2021D.gdb\\\\OCACS2021TRD'])"
      ]
     },
     "execution_count": 43,
     "metadata": {},
     "output_type": "execute_result"
    }
   ],
   "source": [
    "features, featuresPath"
   ]
  },
  {
   "cell_type": "code",
   "execution_count": 38,
   "metadata": {},
   "outputs": [],
   "source": [
    "geoList = {\n",
    "    \"CO\": \"Orange County\",\n",
    "    \"CS\": \"County Subdivisions\",\n",
    "    \"PL\": \"Cities\",\n",
    "    \"ZC\": \"ZIP Code Tabulation Areas\",\n",
    "    \"CD\": \"Congressional Districts, {cdn}th US Congress\",\n",
    "    \"LL\": \"State Assembly Legislative Districts\",\n",
    "    \"UL\": \"State Senate Legislative Districts\",\n",
    "    \"ED\": \"Elementary School Districts\",\n",
    "    \"SD\": \"Secondary School Districts\",\n",
    "    \"UD\": \"Unified School Districts\",\n",
    "    \"UA\": \"Urban Areas\",\n",
    "    \"PU\": \"Public Use Microdata Areas\",\n",
    "    \"BG\": \"Block Groups\",\n",
    "    \"TR\": \"Census Tracts\"\n",
    "}"
   ]
  },
  {
   "cell_type": "code",
   "execution_count": 50,
   "metadata": {},
   "outputs": [],
   "source": [
    "geoDictionary = {}\n",
    "for g in geoList:\n",
    "    geoDictionary[g] = {}\n",
    "    geoDictionary[g][\"Name\"] = geoList[g]\n",
    "    geoDictionary[g][\"Feature\"] = f\"OCACS{year}{g}D\"\n",
    "    geoDictionary[g][\"FeaturePath\"] = os.path.join(arcpy.env.workspace, f\"OCACS{year}{g}D\")"
   ]
  },
  {
   "cell_type": "code",
   "execution_count": 51,
   "metadata": {},
   "outputs": [
    {
     "data": {
      "text/plain": [
       "{'CO': {'Name': 'Orange County',\n",
       "  'Feature': 'OCACS2021COD',\n",
       "  'FeaturePath': 'F:\\\\OCGD\\\\OCACS2021\\\\Processed\\\\OCACS2021D.gdb\\\\OCACS2021COD'},\n",
       " 'CS': {'Name': 'County Subdivisions',\n",
       "  'Feature': 'OCACS2021CSD',\n",
       "  'FeaturePath': 'F:\\\\OCGD\\\\OCACS2021\\\\Processed\\\\OCACS2021D.gdb\\\\OCACS2021CSD'},\n",
       " 'PL': {'Name': 'Cities',\n",
       "  'Feature': 'OCACS2021PLD',\n",
       "  'FeaturePath': 'F:\\\\OCGD\\\\OCACS2021\\\\Processed\\\\OCACS2021D.gdb\\\\OCACS2021PLD'},\n",
       " 'ZC': {'Name': 'ZIP Code Tabulation Areas',\n",
       "  'Feature': 'OCACS2021ZCD',\n",
       "  'FeaturePath': 'F:\\\\OCGD\\\\OCACS2021\\\\Processed\\\\OCACS2021D.gdb\\\\OCACS2021ZCD'},\n",
       " 'CD': {'Name': 'Congressional Districts, {cdn}th US Congress',\n",
       "  'Feature': 'OCACS2021CDD',\n",
       "  'FeaturePath': 'F:\\\\OCGD\\\\OCACS2021\\\\Processed\\\\OCACS2021D.gdb\\\\OCACS2021CDD'},\n",
       " 'LL': {'Name': 'State Assembly Legislative Districts',\n",
       "  'Feature': 'OCACS2021LLD',\n",
       "  'FeaturePath': 'F:\\\\OCGD\\\\OCACS2021\\\\Processed\\\\OCACS2021D.gdb\\\\OCACS2021LLD'},\n",
       " 'UL': {'Name': 'State Senate Legislative Districts',\n",
       "  'Feature': 'OCACS2021ULD',\n",
       "  'FeaturePath': 'F:\\\\OCGD\\\\OCACS2021\\\\Processed\\\\OCACS2021D.gdb\\\\OCACS2021ULD'},\n",
       " 'ED': {'Name': 'Elementary School Districts',\n",
       "  'Feature': 'OCACS2021EDD',\n",
       "  'FeaturePath': 'F:\\\\OCGD\\\\OCACS2021\\\\Processed\\\\OCACS2021D.gdb\\\\OCACS2021EDD'},\n",
       " 'SD': {'Name': 'Secondary School Districts',\n",
       "  'Feature': 'OCACS2021SDD',\n",
       "  'FeaturePath': 'F:\\\\OCGD\\\\OCACS2021\\\\Processed\\\\OCACS2021D.gdb\\\\OCACS2021SDD'},\n",
       " 'UD': {'Name': 'Unified School Districts',\n",
       "  'Feature': 'OCACS2021UDD',\n",
       "  'FeaturePath': 'F:\\\\OCGD\\\\OCACS2021\\\\Processed\\\\OCACS2021D.gdb\\\\OCACS2021UDD'},\n",
       " 'UA': {'Name': 'Urban Areas',\n",
       "  'Feature': 'OCACS2021UAD',\n",
       "  'FeaturePath': 'F:\\\\OCGD\\\\OCACS2021\\\\Processed\\\\OCACS2021D.gdb\\\\OCACS2021UAD'},\n",
       " 'PU': {'Name': 'Public Use Microdata Areas',\n",
       "  'Feature': 'OCACS2021PUD',\n",
       "  'FeaturePath': 'F:\\\\OCGD\\\\OCACS2021\\\\Processed\\\\OCACS2021D.gdb\\\\OCACS2021PUD'},\n",
       " 'BG': {'Name': 'Block Groups',\n",
       "  'Feature': 'OCACS2021BGD',\n",
       "  'FeaturePath': 'F:\\\\OCGD\\\\OCACS2021\\\\Processed\\\\OCACS2021D.gdb\\\\OCACS2021BGD'},\n",
       " 'TR': {'Name': 'Census Tracts',\n",
       "  'Feature': 'OCACS2021TRD',\n",
       "  'FeaturePath': 'F:\\\\OCGD\\\\OCACS2021\\\\Processed\\\\OCACS2021D.gdb\\\\OCACS2021TRD'}}"
      ]
     },
     "execution_count": 51,
     "metadata": {},
     "output_type": "execute_result"
    }
   ],
   "source": [
    "geoDictionary"
   ]
  },
  {
   "cell_type": "code",
   "execution_count": null,
   "metadata": {},
   "outputs": [],
   "source": []
  }
 ],
 "metadata": {
  "kernelspec": {
   "display_name": "Python 3",
   "language": "python",
   "name": "python3"
  },
  "language_info": {
   "codemirror_mode": {
    "name": "ipython",
    "version": 3
   },
   "file_extension": ".py",
   "mimetype": "text/x-python",
   "name": "python",
   "nbconvert_exporter": "python",
   "pygments_lexer": "ipython3",
   "version": "3.9.16"
  },
  "orig_nbformat": 4
 },
 "nbformat": 4,
 "nbformat_minor": 2
}
