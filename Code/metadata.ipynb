{
 "cells": [
  {
   "cell_type": "code",
   "execution_count": 30,
   "metadata": {},
   "outputs": [
    {
     "ename": "ModuleNotFoundError",
     "evalue": "No module named 'numpy'",
     "output_type": "error",
     "traceback": [
      "\u001b[1;31m---------------------------------------------------------------------------\u001b[0m",
      "\u001b[1;31mModuleNotFoundError\u001b[0m                       Traceback (most recent call last)",
      "Cell \u001b[1;32mIn[30], line 1\u001b[0m\n\u001b[1;32m----> 1\u001b[0m \u001b[39mimport\u001b[39;00m \u001b[39mos\u001b[39;00m\u001b[39m,\u001b[39m \u001b[39marcpy\u001b[39;00m\n\u001b[0;32m      2\u001b[0m \u001b[39mfrom\u001b[39;00m \u001b[39marcpy\u001b[39;00m \u001b[39mimport\u001b[39;00m metadata \u001b[39mas\u001b[39;00m md\n\u001b[0;32m      3\u001b[0m \u001b[39mfrom\u001b[39;00m \u001b[39mgetpass\u001b[39;00m \u001b[39mimport\u001b[39;00m getpass\n",
      "File \u001b[1;32mC:\\Program Files\\ArcGIS\\Pro\\Resources\\ArcPy\\arcpy\\__init__.py:21\u001b[0m\n\u001b[0;32m     19\u001b[0m \u001b[39mimport\u001b[39;00m \u001b[39msys\u001b[39;00m\n\u001b[0;32m     20\u001b[0m \u001b[39mimport\u001b[39;00m \u001b[39mwarnings\u001b[39;00m\n\u001b[1;32m---> 21\u001b[0m \u001b[39mimport\u001b[39;00m \u001b[39mnumpy\u001b[39;00m\n\u001b[0;32m     22\u001b[0m \u001b[39mfrom\u001b[39;00m \u001b[39mitertools\u001b[39;00m \u001b[39mimport\u001b[39;00m chain\n\u001b[0;32m     24\u001b[0m msg \u001b[39m=\u001b[39m \u001b[39m\"\"\"\u001b[39m\u001b[39marcpy expects to run inside a Conda environment, which ArcGIS\u001b[39m\n\u001b[0;32m     25\u001b[0m \u001b[39muses to manage the installation of Python.\u001b[39m\n\u001b[0;32m     26\u001b[0m \n\u001b[1;32m   (...)\u001b[0m\n\u001b[0;32m     33\u001b[0m \u001b[39m     C:\u001b[39m\u001b[39m\\\\\u001b[39;00m\u001b[39m> \u001b[39m\u001b[39m{}\u001b[39;00m\u001b[39mbin\u001b[39m\u001b[39m\\\\\u001b[39;00m\u001b[39mpython\u001b[39m\u001b[39m\\\\\u001b[39;00m\u001b[39mscripts\u001b[39m\u001b[39m\\\\\u001b[39;00m\u001b[39mproenv.bat\u001b[39m\n\u001b[0;32m     34\u001b[0m \u001b[39m\"\"\"\u001b[39m\n",
      "\u001b[1;31mModuleNotFoundError\u001b[0m: No module named 'numpy'"
     ]
    }
   ],
   "source": [
    "import os, arcpy\n",
    "from arcpy import metadata as md\n",
    "from getpass import getpass"
   ]
  },
  {
   "cell_type": "code",
   "execution_count": 31,
   "metadata": {},
   "outputs": [],
   "source": [
    "codeDir = os.path.expanduser(\"~\\Box\\KA Personal Folder\\Projects\\Github\\OCACS-Geodemographics\\Code\")\n",
    "prjPath = os.path.expanduser(f\"~\\Box\\KA Personal Folder\\Projects\\OCGD\\OCACS\\OCACS{year}\\Processed\")"
   ]
  },
  {
   "cell_type": "code",
   "execution_count": 32,
   "metadata": {},
   "outputs": [],
   "source": [
    "yearDict = {\n",
    "    \"2013\": \"113\",\n",
    "    \"2014\": \"114\",\n",
    "    \"2015\": \"114\",\n",
    "    \"2016\": \"115\",\n",
    "    \"2017\": \"115\",\n",
    "    \"2018\": \"116\",\n",
    "    \"2019\": \"116\",\n",
    "    \"2020\": \"116\",\n",
    "    \"2021\": \"116\"\n",
    "}"
   ]
  },
  {
   "cell_type": "code",
   "execution_count": 33,
   "metadata": {},
   "outputs": [
    {
     "ename": "ModuleNotFoundError",
     "evalue": "No module named 'numpy'",
     "output_type": "error",
     "traceback": [
      "\u001b[1;31m---------------------------------------------------------------------------\u001b[0m",
      "\u001b[1;31mModuleNotFoundError\u001b[0m                       Traceback (most recent call last)",
      "Cell \u001b[1;32mIn[33], line 1\u001b[0m\n\u001b[1;32m----> 1\u001b[0m \u001b[39mfrom\u001b[39;00m \u001b[39mocacs_metadata\u001b[39;00m \u001b[39mimport\u001b[39;00m ocacs_metadata\n",
      "File \u001b[1;32mc:\\Users\\ktale\\Box\\KA Personal Folder\\Projects\\Github\\OCACS-Geodemographics\\Code\\ocacs_metadata.py:1\u001b[0m\n\u001b[1;32m----> 1\u001b[0m \u001b[39mimport\u001b[39;00m \u001b[39mos\u001b[39;00m\u001b[39m,\u001b[39m \u001b[39marcpy\u001b[39;00m\n\u001b[0;32m      2\u001b[0m \u001b[39mfrom\u001b[39;00m \u001b[39marcpy\u001b[39;00m \u001b[39mimport\u001b[39;00m metadata \u001b[39mas\u001b[39;00m md\n\u001b[0;32m      4\u001b[0m \u001b[39mdef\u001b[39;00m \u001b[39mocacs_metadata\u001b[39m(prjPath):\n",
      "File \u001b[1;32mC:\\Program Files\\ArcGIS\\Pro\\Resources\\ArcPy\\arcpy\\__init__.py:21\u001b[0m\n\u001b[0;32m     19\u001b[0m \u001b[39mimport\u001b[39;00m \u001b[39msys\u001b[39;00m\n\u001b[0;32m     20\u001b[0m \u001b[39mimport\u001b[39;00m \u001b[39mwarnings\u001b[39;00m\n\u001b[1;32m---> 21\u001b[0m \u001b[39mimport\u001b[39;00m \u001b[39mnumpy\u001b[39;00m\n\u001b[0;32m     22\u001b[0m \u001b[39mfrom\u001b[39;00m \u001b[39mitertools\u001b[39;00m \u001b[39mimport\u001b[39;00m chain\n\u001b[0;32m     24\u001b[0m msg \u001b[39m=\u001b[39m \u001b[39m\"\"\"\u001b[39m\u001b[39marcpy expects to run inside a Conda environment, which ArcGIS\u001b[39m\n\u001b[0;32m     25\u001b[0m \u001b[39muses to manage the installation of Python.\u001b[39m\n\u001b[0;32m     26\u001b[0m \n\u001b[1;32m   (...)\u001b[0m\n\u001b[0;32m     33\u001b[0m \u001b[39m     C:\u001b[39m\u001b[39m\\\\\u001b[39;00m\u001b[39m> \u001b[39m\u001b[39m{}\u001b[39;00m\u001b[39mbin\u001b[39m\u001b[39m\\\\\u001b[39;00m\u001b[39mpython\u001b[39m\u001b[39m\\\\\u001b[39;00m\u001b[39mscripts\u001b[39m\u001b[39m\\\\\u001b[39;00m\u001b[39mproenv.bat\u001b[39m\n\u001b[0;32m     34\u001b[0m \u001b[39m\"\"\"\u001b[39m\n",
      "\u001b[1;31mModuleNotFoundError\u001b[0m: No module named 'numpy'"
     ]
    }
   ],
   "source": [
    "from ocacs_metadata import ocacs_metadata"
   ]
  },
  {
   "cell_type": "code",
   "execution_count": 4,
   "metadata": {},
   "outputs": [],
   "source": [
    "# Obtain the data folders in the project directory\n",
    "dataIn = os.path.join(prjPath, \"Original\")\n",
    "dataOut = os.path.join(prjPath, \"Processed\")"
   ]
  },
  {
   "cell_type": "code",
   "execution_count": 6,
   "metadata": {},
   "outputs": [],
   "source": [
    "basicTags = \"geodemographics, Orange County, California, US Census, OCACS, ACS, American Community Survey\"\n",
    "cDictionary = {\n",
    "    \"D\": {\n",
    "        \"Name\": \"Demographic Characteristics\",\n",
    "        \"Tags\": f\"{basicTags}, Demographic Characteristics, age, sex, race, Hispanic or Latino, citizen, voting\",\n",
    "        \"Description\": f\"US Census American Community Survey (ACS) {year}, 5-year estimates of the key demographic characteristics of multiple geographic levels (county; county subdivisions; cities; ZIP codes; congressional, state assembly and state senate districts; elementary, secondary and unified educational districts; urban areas, PUMA, census tracts and block groups) for Orange County, California. The data contains 105 fields for the variable groups D01: Sex and age (universe: total population, table X1, 49 fields); D02: Median age by sex and race (universe: total population, table X1, 12 fields); D03: Race (universe: total population, table X2, 8 fields); D04: Race alone or in combination with one or more other races (universe: total population, table X2, 7 fields); D05: Hispanic or Latino and race (universe: total population, table X3, 21 fields), and; D06: Citizen voting age population (universe: citizen, 18 and over, table X5, 8 fields). The US Census geodemographic data are based on the {year} TigerLines across multiple geographies. The spatial geographies were merged with ACS data tables. See full documentation at the OCACS project github page (<a href='https://github.com/ktalexan/OCACS-Geodemographics' target='blank'>https://github.com/ktalexan/OCACS-Geodemographics</a>).\",\n",
    "        \"Thumbnail\": \"https://github.com/ktalexan/OCACS-Geodemographics/blob/main/Images/OCDemographicCharacteristics.jpg?raw=true\",\n",
    "        \"Fields\": \"The data contains 105 fields for the variable groups D01: Sex and age (universe: total population, table X1, 49 fields); D02: Median age by sex and race (universe: total population, table X1, 12 fields); D03: Race (universe: total population, table X2, 8 fields); D04: Race alone or in combination with one or more other races (universe: total population, table X2, 7 fields); D05: Hispanic or Latino and race (universe: total population, table X3, 21 fields), and; D06: Citizen voting age population (universe: citizen, 18 and over, table X5, 8 fields).\"\n",
    "    },\n",
    "    \"S\": {\n",
    "        \"Name\": \"Social Characteristics\",\n",
    "        \"Tags\": f\"{basicTags}, Social Characteristics, households, relationship, marital status, Fertility, grandparents, school enrollment, educational attainment, veteran status, disability, residence, place of birth, citizenship, region of birth, language spoken, ancestry, computer use, internet use\",\n",
    "        \"Description\": f\"US Census American Community Survey (ACS) {year}, 5-year estimates of the key social characteristics of multiple geographic levels (county; county subdivisions; cities; ZIP codes; congressional, state assembly and state senate districts; elementary, secondary and unified educational districts; urban areas, PUMA, census tracts and block groups) for Orange County, California. The data contains 500 fields for the variable groups S01: Households by type (universe: total households, table X11, 17 fields); S02: Relationship (universe: population in households, table X9, 19 fields); S03: Marital status (universe: population 15 years and over, table X12, 13 fields); S04: Fertility (universe: women 15-50 years who had birth in the past 12 months, table X13, 11 fields); S05: Grandparents (universe: grandparents living or responsible for own grandchildren under 18 years, table X10, 18 fields); S06: School enrollment (universe: population 3 years old and over enrolled in school, table X14, 17 fields); S07: Educational attainment (universe: population 25 years and over, table X15, 25 fields); S08: Veteran status (universe: civilian population 18 years and over, table X21, 2 fields); S09: Disability status and type by sex and age (universe: total civilian non-institutionalized population, table X18, 77 fields); S10: Disability status by age and health insurance coverage (universe: civilian non-institutionalized population, table X18, 16 fields); S11: Residence 1 year ago (universe: population 1 year and over, table X7, 6 fields); S12: Place of birth (universe: total population, table X5, 27 fields); S13: Citizenship status by nativity in the US (universe: total population, table X5, 6 fields); S14: Year of entry (universe: population born outside the US, table X5, 21 fields); S15: World region of birth of foreign born population (universe: foreign born population, excluding population born at sea, table X5, 25 fields); S16: Language spoken in households (universe: total households, table X16, 6 fields); S17: Language spoken at home (universe: population 5 years and over, table X16, 67 fields); S18: Ancestry (universe: total population reporting ancestry, table X4, 114 fields), and; S19: Computers and internet use (universe: total population in households and total households, table X28, 13 fields). The US Census geodemographic data are based on the {year} TigerLines across multiple geographies. The spatial geographies were merged with ACS data tables. See full documentation at the OCACS project GitHub page (<a href='https://github.com/ktalexan/OCACS-Geodemographics' target='blank'>https://github.com/ktalexan/OCACS-Geodemographics</a>).\",\n",
    "        \"Thumbnail\": \"https://github.com/ktalexan/OCACS-Geodemographics/blob/main/Images/OCSocialCharacteristics.jpg?raw=true\",\n",
    "        \"Fields\": \"The data contains 500 fields for the variable groups S01: Households by type (universe: total households, table X11, 17 fields); S02: Relationship (universe: population in households, table X9, 19 fields); S03: Marital status (universe: population 15 years and over, table X12, 13 fields); S04: Fertility (universe: women 15-50 years who had birth in the past 12 months, table X13, 11 fields); S05: Grandparents (universe: grandparents living or responsible for own grandchildren under 18 years, table X10, 18 fields); S06: School enrollment (universe: population 3 years old and over enrolled in school, table X14, 17 fields); S07: Educational attainment (universe: population 25 years and over, table X15, 25 fields); S08: Veteran status (universe: civilian population 18 years and over, table X21, 2 fields); S09: Disability status and type by sex and age (universe: total civilian non-institutionalized population, table X18, 77 fields); S10: Disability status by age and health insurance coverage (universe: civilian non-institutionalized population, table X18, 16 fields); S11: Residence 1 year ago (universe: population 1 year and over, table X7, 6 fields); S12: Place of birth (universe: total population, table X5, 27 fields); S13: Citizenship status by nativity in the US (universe: total population, table X5, 6 fields); S14: Year of entry (universe: population born outside the US, table X5, 21 fields); S15: World region of birth of foreign born population (universe: foreign born population, excluding population born at sea, table X5, 25 fields); S16: Language spoken in households (universe: total households, table X16, 6 fields); S17: Language spoken at home (universe: population 5 years and over, table X16, 67 fields); S18: Ancestry (universe: total population reporting ancestry, table X4, 114 fields), and; S19: Computers and internet use (universe: total population in households and total households, table X28, 13 fields).\"\n",
    "    },\n",
    "    \"E\": {\n",
    "        \"Name\": \"Economic Characteristics\",\n",
    "        \"Tags\": f\"{basicTags}, Economic Characteristics, employment status, work status, worker, commuting, travel time, vehicles, transportation, occupation, industry, class of worker, income, earnings, health insurance, poverty\",\n",
    "        \"Description\": f\"US Census American Community Survey (ACS) {year}, 5-year estimates of the key economic characteristics of multiple geographic levels (county; county subdivisions; cities; ZIP codes; congressional, state assembly and state senate districts; elementary, secondary and unified educational districts; urban areas, PUMA, census tracts and block groups) for Orange County, California. The data contains 397 fields for the variable groups E01: Employment status (universe: population 16 years and over, table X23, 7 fields); E02: Work status by age of worker (universe: population 16 years and over, table X23, 36 fields); E03: Commuting to work (universe: workers 16 years and over, table X8, 8 fields); E04: Travel time to work (universe: workers 16 years and over who did not work at home, table X8, 14 fields); E05: Number of vehicles available for workers (universe: workers 16 years and over in households, table X8, 8 fields); E06: Median age by means of transportation to work (universe: median age, workers 16 years and over, table X8, 7 fields); E07: Means of transportation to work by race (universe: workers 16 years and over, table X8, 64 fields); E08: Occupation (universe: civilian employed population 16 years and over, table X24, 53 fields); E09: Industry (universe: civilian employed population 16 years and over, table X24, 43 fields); E10: Class of worker (universe: civilian employed population 16 years and over, table X24, 19 fields); E11: Household income and earnings in the past 12 months (universe: total households, table X19, 37 fields); E12: Income and earnings in dollars (universe: inflation-adjusted dollars, tables X19-X20, 31 fields); E13: Family income in dollars (universe: total families, table X19, 17 fields); E14: Health insurance coverage (universe: total families, table X19, 17 fields); E15: Ratio of income to Poverty level (universe: total population for whom Poverty level is determined, table X17,  8 fields); E16: Poverty in population in the past 12 months (universe: total population for whom Poverty level is determined, table X17, 7 fields); E17: Poverty in households in the past 12 months (universe: total households, table X17, 9 fields); E18: Percentage of families and people whose income in the past 12 months is below the poverty level (universe: families, population, table X17, 8 fields), and; X19: Poverty and income deficit (dollars) in the past 12 months for families (universe: families with income below Poverty level in the past 12 months, table X17, 4 fields). The US Census geodemographic data are based on the {year} TigerLines across multiple geographies. The spatial geographies were merged with ACS data tables. See full documentation at the OCACS project GitHub page (<a href='https://github.com/ktalexan/OCACS-Geodemographics' target='blank'>https://github.com/ktalexan/OCACS-Geodemographics</a>).\",\n",
    "        \"Thumbnail\": \"https://github.com/ktalexan/OCACS-Geodemographics/blob/main/Images/OCEconomicCharacteristics.jpg?raw=true\",\n",
    "        \"Fields\": \"The data contains 397 fields for the variable groups E01: Employment status (universe: population 16 years and over, table X23, 7 fields); E02: Work status by age of worker (universe: population 16 years and over, table X23, 36 fields); E03: Commuting to work (universe: workers 16 years and over, table X8, 8 fields); E04: Travel time to work (universe: workers 16 years and over who did not work at home, table X8, 14 fields); E05: Number of vehicles available for workers (universe: workers 16 years and over in households, table X8, 8 fields); E06: Median age by means of transportation to work (universe: median age, workers 16 years and over, table X8, 7 fields); E07: Means of transportation to work by race (universe: workers 16 years and over, table X8, 64 fields); E08: Occupation (universe: civilian employed population 16 years and over, table X24, 53 fields); E09: Industry (universe: civilian employed population 16 years and over, table X24, 43 fields); E10: Class of worker (universe: civilian employed population 16 years and over, table X24, 19 fields); E11: Household income and earnings in the past 12 months (universe: total households, table X19, 37 fields); E12: Income and earnings in dollars (universe: inflation-adjusted dollars, tables X19-X20, 31 fields); E13: Family income in dollars (universe: total families, table X19, 17 fields); E14: Health insurance coverage (universe: total families, table X19, 17 fields); E15: Ratio of income to Poverty level (universe: total population for whom Poverty level is determined, table X17, 8 fields); E16: Poverty in population in the past 12 months (universe: total population for whom Poverty level is determined, table X17, 7 fields); E17: Poverty in households in the past 12 months (universe: total households, table X17, 9 fields); E18: Percentage of families and people whose income in the past 12 months is below the poverty level (universe: families, population, table X17, 8 fields), and; X19: Poverty and income deficit (dollars) in the past 12 months for families (universe: families with income below Poverty level in the past 12 months, table X17, 4 fields).\"\n",
    "    },\n",
    "    \"H\": {\n",
    "        \"Name\": \"Housing Characteristics\",\n",
    "        \"Tags\": f\"{basicTags}, Housing Characteristics, housing occupancy, units, tenure, year built, rooms, bedrooms, vacancy status, vehicles, heating fuel, kitchen, plumbing, occupants, housing value, price asked, mortgage status, owner costs, rent value, gross rent\",\n",
    "        \"Description\": f\"US Census American Community Survey (ACS) {year}, 5-year estimates of the key housing characteristics of multiple geographic levels (county; county subdivisions; cities; ZIP codes; congressional, state assembly and state senate districts; elementary, secondary and unified educational districts; urban areas, PUMA, census tracts and block groups) for Orange County, California. The data contains 406 fields for the variable groups H01: Housing occupancy (universe: total housing units, table X25, 3 fields); H02: Units in structure (universe: total housing units, table X25, 11 fields); H03: Population in occupied housing units by tenure by units in structure (universe: total population in occupied housing units, table X25, 13 fields); H04: Year structure built (universe: total housing units, table X25, 15 fields); H05: Rooms (universe: total housing units, table X25, 18 fields); H06: Bedrooms (universe: total housing units, table X25, 21 fields); H07: Housing tenure by race of householder (universe: occupied housing units, table X25, 51 fields); H08: Total population in occupied housing units by tenure (universe: total population in occupied housing units, table X25, 3 fields); H09: Vacancy status (universe: vacant housing units, table X25, 8 fields); H10: Occupied housing units by race of householder (universe: occupied housing units, table X25, 8 fields); H11: Year householder moved into unit (universe: occupied housing units, table X25, 18 fields); H12: Vehicles available (universe: occupied housing units, table X25, 18 fields); H13: Housing heating fuel (universe: occupied housing units, table X25, 10 fields); H14: Selected housing characteristics (universe: occupied housing units, table X25, 9 fields); H15: Occupants per room (universe: occupied housing units, table X25, 13 fields); H16: Housing value (universe: owner-occupied units, table X25, 32 fields); H17: Price asked for vacant for sale only, and sold not occupied housing units (universe: vacant for sale only, and sold not occupied housing units, table X25, 28 fields); H18: Mortgage status (universe: owner-occupied units, table X25, 10 fields); H19: Selected monthly owner costs, SMOC (universe: owner-occupied housing units with or without a mortgage, table X25, 45 fields); H20: Selected monthly owner costs as a percentage of household income, SMOCAPI (universe: owner-occupied housing units with or without a mortgage, table X25, 26 fields); H21: Contract rent distribution and rent asked distribution in dollars (universe: renter-occupied housing units paying cash rent and vacant, for rent, and rented not occupied housing units, table X25, 7 fields); H22: Gross rent (universe: occupied units paying rent, table X25, 28 fields), and; X23: Gross rent as percentage of household income (universe: occupied units paying rent, table X25, 11 fields). The US Census geodemographic data are based on the {year} TigerLines across multiple geographies. The spatial geographies were merged with ACS data tables. See full documentation at the OCACS project GitHub page (<a href='https://github.com/ktalexan/OCACS-Geodemographics' target='blank'>https://github.com/ktalexan/OCACS-Geodemographics</a>).\",\n",
    "        \"Thumbnail\": \"https://github.com/ktalexan/OCACS-Geodemographics/blob/main/Images/OCHousingCharacteristics.jpg?raw=true\",\n",
    "        \"Fields\": \"The data contains 406 fields for the variable groups H01: Housing occupancy (universe: total housing units, table X25, 3 fields); H02: Units in structure (universe: total housing units, table X25, 11 fields); H03: Population in occupied housing units by tenure by units in structure (universe: total population in occupied housing units, table X25, 13 fields); H04: Year structure built (universe: total housing units, table X25, 15 fields); H05: Rooms (universe: total housing units, table X25, 18 fields); H06: Bedrooms (universe: total housing units, table X25, 21 fields); H07: Housing tenure by race of householder (universe: occupied housing units, table X25, 51 fields); H08: Total population in occupied housing units by tenure (universe: total population in occupied housing units, table X25, 3 fields); H09: Vacancy status (universe: vacant housing units, table X25, 8 fields); H10: Occupied housing units by race of householder (universe: occupied housing units, table X25, 8 fields); H11: Year householder moved into unit (universe: occupied housing units, table X25, 18 fields); H12: Vehicles available (universe: occupied housing units, table X25, 18 fields); H13: Housing heating fuel (universe: occupied housing units, table X25, 10 fields); H14: Selected housing characteristics (universe: occupied housing units, table X25, 9 fields); H15: Occupants per room (universe: occupied housing units, table X25, 13 fields); H16: Housing value (universe: owner-occupied units, table X25, 32 fields); H17: Price asked for vacant for sale only, and sold not occupied housing units (universe: vacant for sale only, and sold not occupied housing units, table X25, 28 fields); H18: Mortgage status (universe: owner-occupied units, table X25, 10 fields); H19: Selected monthly owner costs, SMOC (universe: owner-occupied housing units with or without a mortgage, table X25, 45 fields); H20: Selected monthly owner costs as a percentage of household income, SMOCAPI (universe: owner-occupied housing units with or without a mortgage, table X25, 26 fields); H21: Contract rent distribution and rent asked distribution in dollars (universe: renter-occupied housing units paying cash rent and vacant, for rent, and rented not occupied housing units, table X25, 7 fields); H22: Gross rent (universe: occupied units paying rent, table X25, 28 fields), and; X23: Gross rent as percentage of household income (universe: occupied units paying rent, table X25, 11 fields).\"\n",
    "    }\n",
    "}"
   ]
  },
  {
   "cell_type": "code",
   "execution_count": 7,
   "metadata": {},
   "outputs": [],
   "source": [
    "gDictionary = {\n",
    "    \"CO\": \"Orange County\",\n",
    "    \"CS\": \"County Subdivisions\",\n",
    "    \"PL\": \"Cities\",\n",
    "    \"ZC\": \"ZIP Code Tabulation Areas\",\n",
    "    \"CD\": f\"Congressional Districts, {cdn}th US Congress\",\n",
    "    \"LL\": \"State Assembly Legislative Districts\",\n",
    "    \"UL\": \"State Senate Legislative Districts\",\n",
    "    \"ED\": \"Elementary School Districts\",\n",
    "    \"SD\": \"Secondary School Districts\",\n",
    "    \"UD\": \"Unified School Districts\",\n",
    "    \"UA\": \"Urban Areas\",\n",
    "    \"PU\": \"Public Use Microdata Areas\",\n",
    "    \"BG\": \"Block Groups\",\n",
    "    \"TR\": \"Census Tracts\"\n",
    "}"
   ]
  },
  {
   "cell_type": "code",
   "execution_count": 8,
   "metadata": {},
   "outputs": [],
   "source": [
    "# Set and obtain the workspaces (geodatabases) in the folder\n",
    "arcpy.env.workspace = dataOut\n",
    "workspaces = arcpy.ListWorkspaces(\"*\", \"FileGDB\")"
   ]
  },
  {
   "cell_type": "code",
   "execution_count": 9,
   "metadata": {},
   "outputs": [
    {
     "data": {
      "text/plain": [
       "['C:\\\\Users\\\\ktale\\\\Box\\\\KA Personal Folder\\\\Projects\\\\OCGD\\\\OCACS\\\\OCACS2021\\\\Processed\\\\OCACS2021D.gdb',\n",
       " 'C:\\\\Users\\\\ktale\\\\Box\\\\KA Personal Folder\\\\Projects\\\\OCGD\\\\OCACS\\\\OCACS2021\\\\Processed\\\\OCACS2021E.gdb',\n",
       " 'C:\\\\Users\\\\ktale\\\\Box\\\\KA Personal Folder\\\\Projects\\\\OCGD\\\\OCACS\\\\OCACS2021\\\\Processed\\\\OCACS2021H.gdb',\n",
       " 'C:\\\\Users\\\\ktale\\\\Box\\\\KA Personal Folder\\\\Projects\\\\OCGD\\\\OCACS\\\\OCACS2021\\\\Processed\\\\OCACS2021S.gdb']"
      ]
     },
     "execution_count": 9,
     "metadata": {},
     "output_type": "execute_result"
    }
   ],
   "source": [
    "workspaces"
   ]
  },
  {
   "cell_type": "code",
   "execution_count": 10,
   "metadata": {},
   "outputs": [
    {
     "data": {
      "text/plain": [
       "2021"
      ]
     },
     "execution_count": 10,
     "metadata": {},
     "output_type": "execute_result"
    }
   ],
   "source": [
    "# Get the year\n",
    "year = int(os.path.split(prjPath)[1].split(\"OCACS\")[1])\n",
    "year"
   ]
  },
  {
   "cell_type": "code",
   "execution_count": 11,
   "metadata": {},
   "outputs": [],
   "source": [
    "# Obtain the geodatabase list (no path)\n",
    "gdbListIn = [os.path.split(w)[1] for w in workspaces]"
   ]
  },
  {
   "cell_type": "code",
   "execution_count": 12,
   "metadata": {},
   "outputs": [],
   "source": [
    "# Format the metadata from the template\n",
    "metadataList = {}\n",
    "for w in workspaces:\n",
    "    f = os.path.split(w)[1]\n",
    "    c = f.split('.gdb')[0].split(f\"OCACS{year}\")[1]\n",
    "    cName = cDictionary[c][\"Name\"]\n",
    "    cTag = cDictionary[c][\"Tags\"]\n",
    "    cDescription = cDictionary[c][\"Description\"]\n",
    "    metadataList[c] = {}\n",
    "    metadataList[c][\"Path\"] = w\n",
    "    metadataList[c][\"File\"] = f.split(\".gdb\")[0]\n",
    "    metadataList[c][\"Year\"] = year\n",
    "    metadataList[c][\"Name\"] = cDictionary[c][\"Name\"]\n",
    "    metadataList[c][\"Title\"] = f\"OCACS {year} Geodatabase Selected {cName}\"\n",
    "    metadataList[c][\"Tags\"] = cTag\n",
    "    metadataList[c][\"Summary\"] = f\"Key {cName} of the {year} American Community Survey (ACS), 5-year estimates for multiple geography levels in Orange County, California.\"\n",
    "    metadataList[c][\"Description\"] = cDescription\n",
    "    metadataList[c][\"Credits\"] = \"Original datasets from US Census TigerLine Geography (<a href='https://www.census.gov/geo/maps-data/data/tiger-line.html' target='_blank'>https://www.census.gov/geo/maps-data/data/tiger-line.html</a>), and American FactFinder (<a href='https://factfinder.census.gov/' target='_blank'>https://factfinder.census.gov/</a>) for the selected tables of the American Community Survey (ACS, {year}). Linking and merging geographic with demographic tables along with final production of the merged spatial geodatabase and online datasets are performed by Orange County Public Works, OC Survey Geospatial Services, <a href='https://www.linkedin.com/in/ktalexan/' target='_blank'>Dr. Kostas Alexandridis, GISP.</a>\"\n",
    "    metadataList[c][\"Thumbnail\"] = cDictionary[c][\"Thumbnail\"]\n",
    "    metadataList[c][\"Geographies\"] = {}\n",
    "    arcpy.env.workspace = w\n",
    "    features = arcpy.ListFeatureClasses()\n",
    "    featuresPath = [os.path.join(arcpy.env.workspace, f) for f in features]\n",
    "    for g in gDictionary:\n",
    "        gName = gDictionary[g]\n",
    "        cField = cDictionary[c][\"Fields\"]\n",
    "        gDescription = f\"US Census American Community Survey (ACS) {year}, 5-year estimates of the key {cName} of {gName} geographic level in Orange County, California. {cField}. The US Census geodemographic data are based on the {year} TigerLines across multiple geographies. The spatial geographies were merged with ACS data tables. See full documentation at the OCACS project GitHub page (<a href='https://github.com/ktalexan/OCACS-Geodemographics' target='blank'>https://github.com/ktalexan/OCACS-Geodemographics</a>).\"\n",
    "        metadataList[c][\"Geographies\"][g] = {}\n",
    "        metadataList[c][\"Geographies\"][g][\"Path\"] = os.path.join(w, f\"OCACS{year}{g}{c}\")\n",
    "        metadataList[c][\"Geographies\"][g][\"Layer\"] = f\"OCACS{year}{g}{c}\"\n",
    "        metadataList[c][\"Geographies\"][g][\"Year\"] = year\n",
    "        metadataList[c][\"Geographies\"][g][\"Name\"] = gName\n",
    "        metadataList[c][\"Geographies\"][g][\"Title\"] = f\"OCACS {year} {cName} for {gName}\"\n",
    "        metadataList[c][\"Geographies\"][g][\"Tags\"] = f\"{cTag}, {gName}\"\n",
    "        metadataList[c][\"Geographies\"][g][\"Summary\"] = f\"Key {cName} of the {year} American Community Survey (ACS), 5-year estimates for {gName} in Orange County, California\"\n",
    "        metadataList[c][\"Geographies\"][g][\"Description\"] = gDescription\n",
    "        metadataList[c][\"Geographies\"][g][\"Credits\"] = metadataList[c][\"Credits\"]\n",
    "        metadataList[c][\"Geographies\"][g][\"Thumbnail\"] = metadataList[c][\"Thumbnail\"]"
   ]
  },
  {
   "cell_type": "code",
   "execution_count": 13,
   "metadata": {},
   "outputs": [],
   "source": [
    "# Assign metadata\n",
    "for key in metadataList:\n",
    "    cMetadata = md.Metadata()\n",
    "    cMetadata.title = metadataList[key][\"Title\"]\n",
    "    cMetadata.tags = metadataList[key][\"Tags\"]\n",
    "    cMetadata.summary = metadataList[key][\"Summary\"]\n",
    "    cMetadata.description = metadataList[key][\"Description\"]\n",
    "    cMetadata.credits = metadataList[key][\"Credits\"]\n",
    "    cMetadata.accessConstraints = metadataList[key][\"Credits\"]\n",
    "    cMetadata.thumbnailUri = metadataList[key][\"Thumbnail\"]\n",
    "    cTarget = md.Metadata(metadataList[key][\"Path\"])\n",
    "    if not cTarget.isReadOnly:\n",
    "        cTarget.copy(cMetadata)\n",
    "        cTarget.save()\n",
    "    elif cTarget.isReadOnly:\n",
    "        print(f\"{metadataList[key]['Name']} is Read Only...\")\n",
    "    gList = metadataList[key][\"Geographies\"]\n",
    "    for k in gList:\n",
    "        gMetadata = md.Metadata()\n",
    "        gMetadata.title = gList[k][\"Title\"]\n",
    "        gMetadata.tags = gList[k][\"Tags\"]\n",
    "        gMetadata.summary = gList[k][\"Summary\"]\n",
    "        gMetadata.description = gList[k][\"Description\"]\n",
    "        gMetadata.credits = gList[k][\"Credits\"]\n",
    "        gMetadata.accessConstraints = gList[k][\"Credits\"]\n",
    "        gMetadata.thumbnailUri = gList[k][\"Thumbnail\"]\n",
    "        gTarget = md.Metadata(gList[k][\"Path\"])\n",
    "        if not gTarget.isReadOnly:\n",
    "            gTarget.copy(gMetadata)\n",
    "            gTarget.save()\n",
    "        elif gTarget.isReadOnly:\n",
    "            print(f\"{gMetadata[k]['Name']} is Read Only...\")"
   ]
  },
  {
   "cell_type": "code",
   "execution_count": null,
   "metadata": {},
   "outputs": [],
   "source": []
  }
 ],
 "metadata": {
  "kernelspec": {
   "display_name": "Python 3",
   "language": "python",
   "name": "python3"
  },
  "language_info": {
   "codemirror_mode": {
    "name": "ipython",
    "version": 3
   },
   "file_extension": ".py",
   "mimetype": "text/x-python",
   "name": "python",
   "nbconvert_exporter": "python",
   "pygments_lexer": "ipython3",
   "version": "3.9.16"
  },
  "orig_nbformat": 4
 },
 "nbformat": 4,
 "nbformat_minor": 2
}
