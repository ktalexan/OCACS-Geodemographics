{
 "cells": [
  {
   "cell_type": "code",
   "execution_count": 1,
   "metadata": {},
   "outputs": [],
   "source": [
    "import os"
   ]
  },
  {
   "cell_type": "code",
   "execution_count": 2,
   "metadata": {},
   "outputs": [],
   "source": [
    "yearDict = {\n",
    "    \"2013\": \"113\",\n",
    "    \"2014\": \"114\",\n",
    "    \"2015\": \"114\",\n",
    "    \"2016\": \"115\",\n",
    "    \"2017\": \"115\",\n",
    "    \"2018\": \"116\",\n",
    "    \"2019\": \"116\",\n",
    "    \"2020\": \"116\",\n",
    "    \"2021\": \"116\"\n",
    "}"
   ]
  },
  {
   "cell_type": "code",
   "execution_count": 3,
   "metadata": {},
   "outputs": [],
   "source": [
    "codeDir = os.path.expanduser(\"~\\Box\\KA Personal Folder\\Projects\\Github\\OCACS-Geodemographics\\Code\")\n",
    "prjPathDict = {}\n",
    "for y in yearDict:\n",
    "    year = int(y)\n",
    "    cdn = int(yearDict[y])\n",
    "    prjPath = os.path.expanduser(f\"~\\Box\\KA Personal Folder\\Projects\\OCGD\\OCACS\\OCACS{year}\")\n",
    "    prjPathDict[year] = prjPath"
   ]
  },
  {
   "attachments": {},
   "cell_type": "markdown",
   "metadata": {},
   "source": [
    "The following function can be run to execute the metadata structure (only metadata no ACS data processing) for either a single year's folder, or for \"ALL\" the years in the provided list of folders. The function takes two arguments:\n",
    "\n",
    "- *prjPathList*: The list or string of folder path(s). If it is a single string path, then the next argument (period) must be an integer year entry.\n",
    "- *period*: Either a single time period (year) as an integer which will run a single year metadata folder processing, or \"ALL\" which will run the metadata processing in a range of folders specified in the project path list. If \"ALL\" the path list must be a list and not a single path string.\n",
    "\n",
    "Any other inputs, will result in termination of the function."
   ]
  },
  {
   "cell_type": "code",
   "execution_count": null,
   "metadata": {},
   "outputs": [],
   "source": [
    "def run_metadata(prjPathList, period):\n",
    "    \"\"\"Running Metadata instances for OCACS geodatabases and feature layers\n",
    "\n",
    "    Args:\n",
    "        prjPathList (string or list): Flexible: can be a list of project folders (OCACS years) or a single project directory containing OCACS geodatabases.\n",
    "        period (integer year or \"ALL\"): if single year, will run the single geodatabase folder structure. If \"ALL\" will run all in list (path directories above must be list.)\n",
    "    \"\"\"\n",
    "    from ocacs_metadata import ocacs_metadata\n",
    "    if (isinstance(period, int)) and (period in range(2013,2022)) and (isinstance(prjPathList, list)):\n",
    "        ocacs_metadata(prjPathList[period])\n",
    "    elif (isinstance(period, int)) and (period in range(2013,2022)) and (isinstance(prjPathList, str)):\n",
    "        ocacs_metadata(prjPathList)\n",
    "    elif (isinstance(period, str)) and (period == \"ALL\") and (isinstance(prjPathList, list)):\n",
    "        i = 0\n",
    "        for path in prjPathDict:\n",
    "            i += 1\n",
    "            prjPath = prjPathDict[path]\n",
    "            print(f\"{i}. PROCESSING YEAR: {path}\\n\")\n",
    "            ocacs_metadata(prjPath)\n",
    "    else: print(\"Entry not valid. Exiting program...\")\n",
    "    "
   ]
  }
 ],
 "metadata": {
  "kernelspec": {
   "display_name": "Python 3",
   "language": "python",
   "name": "python3"
  },
  "language_info": {
   "codemirror_mode": {
    "name": "ipython",
    "version": 3
   },
   "file_extension": ".py",
   "mimetype": "text/x-python",
   "name": "python",
   "nbconvert_exporter": "python",
   "pygments_lexer": "ipython3",
   "version": "3.9.16"
  },
  "orig_nbformat": 4
 },
 "nbformat": 4,
 "nbformat_minor": 2
}
