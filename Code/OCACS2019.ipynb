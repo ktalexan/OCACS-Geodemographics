{
 "cells": [
  {
   "attachments": {},
   "cell_type": "markdown",
   "metadata": {},
   "source": [
    "# ACS Geodemographics Code Execution\n",
    "---\n",
    "### Version 4, May 11, 2023\n",
    "Dr. Kostas Alexandridis, GISP, OC Survey Geospatial Services"
   ]
  },
  {
   "attachments": {},
   "cell_type": "markdown",
   "metadata": {},
   "source": [
    "## Preliminaries"
   ]
  },
  {
   "attachments": {},
   "cell_type": "markdown",
   "metadata": {},
   "source": [
    "Importing Python libraries"
   ]
  },
  {
   "cell_type": "code",
   "execution_count": null,
   "metadata": {},
   "outputs": [],
   "source": [
    "import os, arcpy\n",
    "from getpass import getpass"
   ]
  },
  {
   "attachments": {},
   "cell_type": "markdown",
   "metadata": {},
   "source": [
    "## OCACS 2019\n",
    "----------------------------------------------------------------\n",
    "May 2023"
   ]
  },
  {
   "attachments": {},
   "cell_type": "markdown",
   "metadata": {},
   "source": [
    "Defining inputs for OCACS year, and estimate (1, 3, or 5). This will format the prefix for the files as well."
   ]
  },
  {
   "cell_type": "code",
   "execution_count": 4,
   "metadata": {},
   "outputs": [
    {
     "name": "stdout",
     "output_type": "stream",
     "text": [
      "Year: 2019\n",
      "Estimate: 5\n",
      "Prefix for Files: ACS2019Y5\n"
     ]
    }
   ],
   "source": [
    "year = \"2019\"\n",
    "est = \"5\"\n",
    "prefix = f\"ACS{year}Y{est}\"\n",
    "print(f\"Year: {year}\")\n",
    "print(f\"Estimate: {est}\")\n",
    "print(f\"Prefix for Files: {prefix}\")"
   ]
  },
  {
   "attachments": {},
   "cell_type": "markdown",
   "metadata": {},
   "source": [
    "Defining the project directory (where the code is stored and executed from), and the original data storage directory (where the original downloaded datasets are located)\n",
    " 1. Code Directory: The directory where the Python execution class is located\n",
    " 2. Project Path (prjPath): The parent where the original data (unprocessed) are located and the processed data will be stored"
   ]
  },
  {
   "cell_type": "code",
   "execution_count": null,
   "metadata": {},
   "outputs": [],
   "source": [
    "codeDir = getpass(prompt = \"Code Execution Directory: \")\n",
    "prjPath = getpass(prompt= \"Data Storage Parent Directory: \")"
   ]
  },
  {
   "attachments": {},
   "cell_type": "markdown",
   "metadata": {},
   "source": [
    "Change the current directory, so the code class can be loaded into memory"
   ]
  },
  {
   "cell_type": "code",
   "execution_count": null,
   "metadata": {},
   "outputs": [],
   "source": [
    "codeDir, prjPath"
   ]
  },
  {
   "attachments": {},
   "cell_type": "markdown",
   "metadata": {},
   "source": [
    "Change the current directory, so the code class can be loaded into memory, and import the '**ocacs**' Python class"
   ]
  },
  {
   "cell_type": "code",
   "execution_count": null,
   "metadata": {},
   "outputs": [],
   "source": [
    "os.chdir(codeDir)\n",
    "from ocacs import ocacs"
   ]
  },
  {
   "attachments": {},
   "cell_type": "markdown",
   "metadata": {},
   "source": [
    "Create a new *ocacs* class instantiation for the OCACS 2020 data"
   ]
  },
  {
   "cell_type": "code",
   "execution_count": null,
   "metadata": {},
   "outputs": [],
   "source": [
    "acs20 = ocacs(prjPath)"
   ]
  }
 ],
 "metadata": {
  "kernelspec": {
   "display_name": "agpenv",
   "language": "python",
   "name": "python3"
  },
  "language_info": {
   "codemirror_mode": {
    "name": "ipython",
    "version": 3
   },
   "file_extension": ".py",
   "mimetype": "text/x-python",
   "name": "python",
   "nbconvert_exporter": "python",
   "pygments_lexer": "ipython3",
   "version": "3.9.16"
  },
  "orig_nbformat": 4
 },
 "nbformat": 4,
 "nbformat_minor": 2
}
